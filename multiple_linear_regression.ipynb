{
 "cells":[
  {
   "cell_type":"markdown",
   "source":[
    "# Assignment 3"
   ],
   "attachments":{
    
   },
   "metadata":{
    "datalore":{
     "node_id":"gYPP7jDsQxmEuXyQ4B9KfW",
     "type":"MD",
     "hide_input_from_viewers":false,
     "hide_output_from_viewers":false,
     "report_properties":{
      "rowId":"dlTN0Q1FAl0fx7posYxA01"
     }
    }
   }
  },
  {
   "cell_type":"markdown",
   "source":[
    "## Multiple Linear Regression and Multi-collinearity\n",
    "In this assignment, we'll be using the **Iris Dataset** for a multiple linear regression model. \n",
    "\n",
    "**Dependent Feature:** Petal Width\n",
    "\n",
    "**Independent Features:** Sepal Length, Petal Length"
   ],
   "attachments":{
    
   },
   "metadata":{
    "datalore":{
     "node_id":"o9PvsF7ZlrjqoWdCRzaLPs",
     "type":"MD",
     "hide_input_from_viewers":false,
     "hide_output_from_viewers":false,
     "report_properties":{
      "rowId":"MTOiI6CWOWZ0NJHeixJiGH"
     }
    }
   }
  },
  {
   "cell_type":"code",
   "source":[
    "import numpy as np\n",
    "import pandas as pd\n",
    "import pymc as pm\n",
    "import arviz as az\n",
    "import matplotlib.pyplot as plt"
   ],
   "execution_count":1,
   "outputs":[
    {
     "name":"stderr",
     "text":[
      "WARNING (pytensor.tensor.blas): Using NumPy C-API based implementation for BLAS functions.\n"
     ],
     "output_type":"stream"
    }
   ],
   "metadata":{
    "datalore":{
     "node_id":"dMIIjYci0hsrfve5HDuoyn",
     "type":"CODE",
     "hide_input_from_viewers":false,
     "hide_output_from_viewers":false,
     "report_properties":{
      "rowId":"8jwlbeNHSJdueH9Vbyckpm"
     }
    }
   }
  },
  {
   "cell_type":"markdown",
   "source":[
    "### Importing Data from CSV File\n",
    "Using PANDAS to import data from iris.csv"
   ],
   "attachments":{
    
   },
   "metadata":{
    "datalore":{
     "node_id":"BJljeRb0ny8KOLZqHLqLTK",
     "type":"MD",
     "hide_input_from_viewers":false,
     "hide_output_from_viewers":false,
     "report_properties":{
      "rowId":"kGmWTbWy6zjVHVO6n8RnjG"
     }
    }
   }
  },
  {
   "cell_type":"code",
   "source":[
    "data = pd.read_csv(\"iris.csv\")"
   ],
   "execution_count":2,
   "outputs":[
    
   ],
   "metadata":{
    "datalore":{
     "node_id":"dQj7F4yEPkxO0Yh4lstR9j",
     "type":"CODE",
     "hide_input_from_viewers":false,
     "hide_output_from_viewers":false,
     "report_properties":{
      "rowId":"zQ0yojedMe5LH6KRXjYij5"
     }
    }
   }
  },
  {
   "cell_type":"code",
   "source":[
    "Y = data[\"petal_width\"].values  # Dependent variable\n",
    "\n",
    "X1 = data[\"sepal_length\"].values\n",
    "X2 = data[\"petal_length\"].values\n",
    "\n",
    "print('Sepal Length & Petal Length chosen as the indepent variables\\nPetal width chosen as the dependent variable')"
   ],
   "execution_count":3,
   "outputs":[
    {
     "name":"stdout",
     "text":[
      "Sepal Length & Petal Length chosen as the indepent variables\n",
      "Petal width chosen as the dependent variable\n"
     ],
     "output_type":"stream"
    }
   ],
   "metadata":{
    "datalore":{
     "node_id":"zz6v2ifKuI0UOrmtR3xdHa",
     "type":"CODE",
     "hide_input_from_viewers":false,
     "hide_output_from_viewers":false,
     "report_properties":{
      "rowId":"ndivzoLrh5LlwD25tjEU7O"
     }
    }
   }
  },
  {
   "cell_type":"markdown",
   "source":[
    "## Multi-linear Model\n",
    "Combining the two independent variables to make a **matrix** for our multi-linear model"
   ],
   "attachments":{
    
   },
   "metadata":{
    "datalore":{
     "node_id":"NQ82QBlSGnq2ID9So5yKEl",
     "type":"MD",
     "hide_input_from_viewers":false,
     "hide_output_from_viewers":false,
     "report_properties":{
      "rowId":"kaMxffZ2JaKLJ36k46vBUQ"
     }
    }
   }
  },
  {
   "cell_type":"code",
   "source":[
    "# Making a matrix named X, which will server as our independent feature\n",
    "\n",
    "X = np.vstack((X1, X2)).T"
   ],
   "execution_count":4,
   "outputs":[
    
   ],
   "metadata":{
    "datalore":{
     "node_id":"ylJ9GTVpU88vFa1EzzvZKj",
     "type":"CODE",
     "hide_input_from_viewers":true,
     "hide_output_from_viewers":true
    }
   }
  },
  {
   "cell_type":"code",
   "source":[
    "with pm.Model() as m_x1x2:\n",
    "    α = pm.Normal('α', mu=0, sigma=10)\n",
    "    β1 = pm.Normal('β1', mu=0, sigma=10)\n",
    "    β2 = pm.Normal('β2', mu=0, sigma=10)\n",
    "    ϵ = pm.HalfCauchy('ϵ', 5)\n",
    "\n",
    "    μ = α + β1 * X[:, 0] + β2 * X[:, 1]   # α + (β1 * X1) + (β2 * X2)\n",
    "\n",
    "    y_pred = pm.Normal('y_pred', mu=μ, sigma=ϵ, observed=Y)\n",
    "\n",
    "    idata_x1x2 = pm.sample(2000, return_inferencedata=True)"
   ],
   "execution_count":5,
   "outputs":[
    {
     "name":"stderr",
     "text":[
      "Auto-assigning NUTS sampler...\n",
      "Initializing NUTS using jitter+adapt_diag...\n",
      "Sequential sampling (2 chains in 1 job)\n",
      "NUTS: [α, β1, β2, ϵ]\n",
      "Sampling 2 chains for 1_000 tune and 2_000 draw iterations (2_000 + 4_000 draws total) took 63 seconds.\n",
      "We recommend running at least 4 chains for robust computation of convergence diagnostics\n"
     ],
     "output_type":"stream"
    },
    {
     "data":{
      "text\/html":[
       "\n",
       "<style>\n",
       "    \/* Turns off some styling *\/\n",
       "    progress {\n",
       "        \/* gets rid of default border in Firefox and Opera. *\/\n",
       "        border: none;\n",
       "        \/* Needs to be in here for Safari polyfill so background images work as expected. *\/\n",
       "        background-size: auto;\n",
       "    }\n",
       "    progress:not([value]), progress:not([value])::-webkit-progress-bar {\n",
       "        background: repeating-linear-gradient(45deg, #7e7e7e, #7e7e7e 10px, #5c5c5c 10px, #5c5c5c 20px);\n",
       "    }\n",
       "    .progress-bar-interrupted, .progress-bar-interrupted::-webkit-progress-bar {\n",
       "        background: #F44336;\n",
       "    }\n",
       "<\/style>\n"
      ]
     },
     "metadata":{
      
     },
     "output_type":"display_data"
    },
    {
     "data":{
      "text\/html":[
       "\n",
       "    <div>\n",
       "      <progress value='3000' class='' max='3000' style='width:300px; height:20px; vertical-align: middle;'><\/progress>\n",
       "      100.00% [3000\/3000 00:31&lt;00:00 Sampling chain 0, 0 divergences]\n",
       "    <\/div>\n",
       "    "
      ]
     },
     "metadata":{
      
     },
     "output_type":"display_data"
    },
    {
     "data":{
      "text\/html":[
       "\n",
       "<style>\n",
       "    \/* Turns off some styling *\/\n",
       "    progress {\n",
       "        \/* gets rid of default border in Firefox and Opera. *\/\n",
       "        border: none;\n",
       "        \/* Needs to be in here for Safari polyfill so background images work as expected. *\/\n",
       "        background-size: auto;\n",
       "    }\n",
       "    progress:not([value]), progress:not([value])::-webkit-progress-bar {\n",
       "        background: repeating-linear-gradient(45deg, #7e7e7e, #7e7e7e 10px, #5c5c5c 10px, #5c5c5c 20px);\n",
       "    }\n",
       "    .progress-bar-interrupted, .progress-bar-interrupted::-webkit-progress-bar {\n",
       "        background: #F44336;\n",
       "    }\n",
       "<\/style>\n"
      ]
     },
     "metadata":{
      
     },
     "output_type":"display_data"
    },
    {
     "data":{
      "text\/html":[
       "\n",
       "    <div>\n",
       "      <progress value='3000' class='' max='3000' style='width:300px; height:20px; vertical-align: middle;'><\/progress>\n",
       "      100.00% [3000\/3000 00:31&lt;00:00 Sampling chain 1, 0 divergences]\n",
       "    <\/div>\n",
       "    "
      ]
     },
     "metadata":{
      
     },
     "output_type":"display_data"
    }
   ],
   "metadata":{
    "datalore":{
     "node_id":"J0rpbCUnJwYXXXhkQUlPiT",
     "type":"CODE",
     "hide_input_from_viewers":false,
     "hide_output_from_viewers":false,
     "report_properties":{
      "rowId":"OoPq73oQH8jz9SYiIpTwnn"
     }
    }
   }
  },
  {
   "cell_type":"code",
   "source":[
    "az.summary(idata_x1x2)"
   ],
   "execution_count":6,
   "outputs":[
    {
     "data":{
      "text\/html":[
       "<div>\n",
       "<style scoped>\n",
       "    .dataframe tbody tr th:only-of-type {\n",
       "        vertical-align: middle;\n",
       "    }\n",
       "\n",
       "    .dataframe tbody tr th {\n",
       "        vertical-align: top;\n",
       "    }\n",
       "\n",
       "    .dataframe thead th {\n",
       "        text-align: right;\n",
       "    }\n",
       "<\/style>\n",
       "<table border=\"1\" class=\"dataframe\">\n",
       "  <thead>\n",
       "    <tr style=\"text-align: right;\">\n",
       "      <th><\/th>\n",
       "      <th>mean<\/th>\n",
       "      <th>sd<\/th>\n",
       "      <th>hdi_3%<\/th>\n",
       "      <th>hdi_97%<\/th>\n",
       "      <th>mcse_mean<\/th>\n",
       "      <th>mcse_sd<\/th>\n",
       "      <th>ess_bulk<\/th>\n",
       "      <th>ess_tail<\/th>\n",
       "      <th>r_hat<\/th>\n",
       "    <\/tr>\n",
       "  <\/thead>\n",
       "  <tbody>\n",
       "    <tr>\n",
       "      <th>α<\/th>\n",
       "      <td>-0.010<\/td>\n",
       "      <td>0.181<\/td>\n",
       "      <td>-0.341<\/td>\n",
       "      <td>0.340<\/td>\n",
       "      <td>0.006<\/td>\n",
       "      <td>0.004<\/td>\n",
       "      <td>868.0<\/td>\n",
       "      <td>1454.0<\/td>\n",
       "      <td>1.0<\/td>\n",
       "    <\/tr>\n",
       "    <tr>\n",
       "      <th>β1<\/th>\n",
       "      <td>-0.082<\/td>\n",
       "      <td>0.041<\/td>\n",
       "      <td>-0.162<\/td>\n",
       "      <td>-0.008<\/td>\n",
       "      <td>0.001<\/td>\n",
       "      <td>0.001<\/td>\n",
       "      <td>855.0<\/td>\n",
       "      <td>1462.0<\/td>\n",
       "      <td>1.0<\/td>\n",
       "    <\/tr>\n",
       "    <tr>\n",
       "      <th>β2<\/th>\n",
       "      <td>0.449<\/td>\n",
       "      <td>0.020<\/td>\n",
       "      <td>0.412<\/td>\n",
       "      <td>0.485<\/td>\n",
       "      <td>0.001<\/td>\n",
       "      <td>0.000<\/td>\n",
       "      <td>1117.0<\/td>\n",
       "      <td>1475.0<\/td>\n",
       "      <td>1.0<\/td>\n",
       "    <\/tr>\n",
       "    <tr>\n",
       "      <th>ϵ<\/th>\n",
       "      <td>0.207<\/td>\n",
       "      <td>0.012<\/td>\n",
       "      <td>0.183<\/td>\n",
       "      <td>0.229<\/td>\n",
       "      <td>0.000<\/td>\n",
       "      <td>0.000<\/td>\n",
       "      <td>1586.0<\/td>\n",
       "      <td>1871.0<\/td>\n",
       "      <td>1.0<\/td>\n",
       "    <\/tr>\n",
       "  <\/tbody>\n",
       "<\/table>\n",
       "<\/div>"
      ]
     },
     "metadata":{
      
     },
     "output_type":"display_data"
    }
   ],
   "metadata":{
    "datalore":{
     "node_id":"PMPGWOXNSTBu91v8MaeHDY",
     "type":"CODE",
     "hide_input_from_viewers":true,
     "hide_output_from_viewers":true
    }
   }
  },
  {
   "cell_type":"markdown",
   "source":[
    "## Slopes and Intercept\n",
    "From the summary, we can obtain the following:\n",
    "\n",
    "**Intercept(α):** -0.01\n",
    "\n",
    "**Slope1(β1):** -0.082\n",
    "\n",
    "**Slope2(β2):** 0.449"
   ],
   "attachments":{
    
   },
   "metadata":{
    "datalore":{
     "node_id":"vFPG3wTrEMfg5iXq70DCJW",
     "type":"MD",
     "hide_input_from_viewers":true,
     "hide_output_from_viewers":true
    }
   }
  },
  {
   "cell_type":"markdown",
   "source":[
    "## Confounding Variables\n",
    "We can identify confounding variables using a forest plot using arviz"
   ],
   "attachments":{
    
   },
   "metadata":{
    "datalore":{
     "node_id":"bM6IqaUGZBhUrtSCWyg1S4",
     "type":"MD",
     "hide_input_from_viewers":true,
     "hide_output_from_viewers":true
    }
   }
  },
  {
   "cell_type":"code",
   "source":[
    "az.plot_forest([idata_x1x2],\n",
    "               model_names=['m_x1x2'],\n",
    "               var_names=['β1', 'β2'],\n",
    "               combined=True, colors='cycle', figsize=(8, 3))"
   ],
   "execution_count":7,
   "outputs":[
    {
     "data":{
      "text\/html":[
       "<pre>array([%lt;Axes: title={'center': '94.0% HDI'}%gt;], dtype=object)<\/pre>"
      ]
     },
     "metadata":{
      
     },
     "output_type":"display_data"
    },
    {
     "data":{
      "image\/png":"[encoded data removed]"
     },
     "metadata":{
      "image\/png":{
       
      }
     },
     "output_type":"display_data"
    }
   ],
   "metadata":{
    "datalore":{
     "node_id":"V7yZtbDFv4mtXzJvSlbkzt",
     "type":"CODE",
     "hide_input_from_viewers":true,
     "hide_output_from_viewers":true
    }
   }
  },
  {
   "cell_type":"markdown",
   "source":[
    "## X1 is confounding\n",
    "From the forest plot, we can identify that value of β1 is almost 0. This represents that X1 is a confounding variable and doesn't really add to the model's accuracy, all the while making the model more complex"
   ],
   "attachments":{
    
   },
   "metadata":{
    "datalore":{
     "node_id":"IreqILLaXLK9JX7Qqsbggq",
     "type":"MD",
     "hide_input_from_viewers":true,
     "hide_output_from_viewers":true
    }
   }
  },
  {
   "cell_type":"markdown",
   "source":[
    "## Multi-collinearity\n",
    "As part of the strategies discussed in class, we need to *drop the variable X1* because it is a confounding variable.\n",
    "\n",
    "We will redefine the model again with X2 only as we did in assignment 2"
   ],
   "attachments":{
    
   },
   "metadata":{
    "datalore":{
     "node_id":"5VWMIJ2qh7BQlujM765MAY",
     "type":"MD",
     "hide_input_from_viewers":true,
     "hide_output_from_viewers":true
    }
   }
  },
  {
   "cell_type":"markdown",
   "source":[
    "## Defining the model again by dropping the confounding variable\n",
    "\n",
    "This time we'll only use X2 to reduce the unnecessary complexity of the model"
   ],
   "attachments":{
    
   },
   "metadata":{
    "datalore":{
     "node_id":"B5krSn5hoUQVakQpaK81ak",
     "type":"MD",
     "hide_input_from_viewers":true,
     "hide_output_from_viewers":true
    }
   }
  },
  {
   "cell_type":"code",
   "source":[
    "with pm.Model() as model1:\n",
    "  α = pm.Normal('α2', mu=0, sigma=10)\n",
    "  β = pm.Normal('β2', mu=0, sigma=1)\n",
    "  ε = pm.HalfCauchy('ε2', 5)\n",
    "  μ = pm.Deterministic('μ1', α + β * X2)  # To include the origonal values in the trace\n",
    "  y1_pred = pm.Normal('y1_pred', mu=μ, sigma=ε, observed=Y)\n",
    "  trace = pm.sample(1000, chains=2)"
   ],
   "execution_count":13,
   "outputs":[
    {
     "name":"stderr",
     "text":[
      "Auto-assigning NUTS sampler...\n",
      "Initializing NUTS using jitter+adapt_diag...\n",
      "Sequential sampling (2 chains in 1 job)\n",
      "NUTS: [α2, β2, ε2]\n",
      "Sampling 2 chains for 1_000 tune and 1_000 draw iterations (2_000 + 2_000 draws total) took 13 seconds.\n",
      "We recommend running at least 4 chains for robust computation of convergence diagnostics\n"
     ],
     "output_type":"stream"
    },
    {
     "data":{
      "text\/html":[
       "\n",
       "<style>\n",
       "    \/* Turns off some styling *\/\n",
       "    progress {\n",
       "        \/* gets rid of default border in Firefox and Opera. *\/\n",
       "        border: none;\n",
       "        \/* Needs to be in here for Safari polyfill so background images work as expected. *\/\n",
       "        background-size: auto;\n",
       "    }\n",
       "    progress:not([value]), progress:not([value])::-webkit-progress-bar {\n",
       "        background: repeating-linear-gradient(45deg, #7e7e7e, #7e7e7e 10px, #5c5c5c 10px, #5c5c5c 20px);\n",
       "    }\n",
       "    .progress-bar-interrupted, .progress-bar-interrupted::-webkit-progress-bar {\n",
       "        background: #F44336;\n",
       "    }\n",
       "<\/style>\n"
      ]
     },
     "metadata":{
      
     },
     "output_type":"display_data"
    },
    {
     "data":{
      "text\/html":[
       "\n",
       "    <div>\n",
       "      <progress value='2000' class='' max='2000' style='width:300px; height:20px; vertical-align: middle;'><\/progress>\n",
       "      100.00% [2000\/2000 00:05&lt;00:00 Sampling chain 0, 0 divergences]\n",
       "    <\/div>\n",
       "    "
      ]
     },
     "metadata":{
      
     },
     "output_type":"display_data"
    },
    {
     "data":{
      "text\/html":[
       "\n",
       "<style>\n",
       "    \/* Turns off some styling *\/\n",
       "    progress {\n",
       "        \/* gets rid of default border in Firefox and Opera. *\/\n",
       "        border: none;\n",
       "        \/* Needs to be in here for Safari polyfill so background images work as expected. *\/\n",
       "        background-size: auto;\n",
       "    }\n",
       "    progress:not([value]), progress:not([value])::-webkit-progress-bar {\n",
       "        background: repeating-linear-gradient(45deg, #7e7e7e, #7e7e7e 10px, #5c5c5c 10px, #5c5c5c 20px);\n",
       "    }\n",
       "    .progress-bar-interrupted, .progress-bar-interrupted::-webkit-progress-bar {\n",
       "        background: #F44336;\n",
       "    }\n",
       "<\/style>\n"
      ]
     },
     "metadata":{
      
     },
     "output_type":"display_data"
    },
    {
     "data":{
      "text\/html":[
       "\n",
       "    <div>\n",
       "      <progress value='2000' class='' max='2000' style='width:300px; height:20px; vertical-align: middle;'><\/progress>\n",
       "      100.00% [2000\/2000 00:07&lt;00:00 Sampling chain 1, 0 divergences]\n",
       "    <\/div>\n",
       "    "
      ]
     },
     "metadata":{
      
     },
     "output_type":"display_data"
    }
   ],
   "metadata":{
    "datalore":{
     "node_id":"haiVP2Br30b8RQRK6ryI4T",
     "type":"CODE",
     "hide_input_from_viewers":true,
     "hide_output_from_viewers":true
    }
   }
  },
  {
   "cell_type":"code",
   "source":[
    "az.plot_forest([trace],\n",
    "               model_names=['model1'],\n",
    "               var_names=['β2'],\n",
    "               combined=True, colors='cycle', figsize=(8, 3))"
   ],
   "execution_count":14,
   "outputs":[
    {
     "data":{
      "text\/html":[
       "<pre>array([%lt;Axes: title={'center': '94.0% HDI'}%gt;], dtype=object)<\/pre>"
      ]
     },
     "metadata":{
      
     },
     "output_type":"display_data"
    },
    {
     "data":{
      "image\/png":"[encoded data removed]"
     },
     "metadata":{
      "image\/png":{
       
      }
     },
     "output_type":"display_data"
    }
   ],
   "metadata":{
    "datalore":{
     "node_id":"Ql37qurhbOEV98WqcGu1Ke",
     "type":"CODE",
     "hide_input_from_viewers":true,
     "hide_output_from_viewers":true
    }
   }
  },
  {
   "cell_type":"markdown",
   "source":[
    "## Conclusion\n",
    "\n",
    "Now our made has reduced complexity with about the same accuracy as the previous model because X1 wasn't really adding to the accuracy of the model"
   ],
   "attachments":{
    
   },
   "metadata":{
    "datalore":{
     "node_id":"qPbbWUBzX0Pniy36YA03o7",
     "type":"MD",
     "hide_input_from_viewers":true,
     "hide_output_from_viewers":true
    }
   }
  }
 ],
 "metadata":{
  "kernelspec":{
   "display_name":"Python",
   "language":"python",
   "name":"python"
  },
  "datalore":{
   "computation_mode":"JUPYTER",
   "package_manager":"pip",
   "base_environment":"default",
   "packages":[
    {
     "name":"pymc",
     "version":"5.6.1",
     "source":"PIP"
    }
   ],
   "report_row_ids":[
    "dlTN0Q1FAl0fx7posYxA01",
    "MTOiI6CWOWZ0NJHeixJiGH",
    "8jwlbeNHSJdueH9Vbyckpm",
    "kGmWTbWy6zjVHVO6n8RnjG",
    "zQ0yojedMe5LH6KRXjYij5",
    "Z619ki8nY9CilE9Dhlppu0",
    "8buEYMhZn44eeTiBQcRQPb",
    "TrRbPqKVf9YYipDruTDIxH",
    "ndivzoLrh5LlwD25tjEU7O",
    "kaMxffZ2JaKLJ36k46vBUQ",
    "OoPq73oQH8jz9SYiIpTwnn",
    "DKWygqcYrnRP0H2BGv71yp",
    "lm5VH4SEm1VP2M0YQu8phR",
    "MCjDOy04X9Ve6lrVskyJRA",
    "kPCphOeoNo1bXvdAV65Uyw",
    "18vuwvdsn7Ya1P7xGHnDp3",
    "N6gZ5TgZBTFSY9qVLgxXVl"
   ],
   "version":3
  }
 },
 "nbformat":4,
 "nbformat_minor":4
}